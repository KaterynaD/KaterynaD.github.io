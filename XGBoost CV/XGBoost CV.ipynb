{
 "cells": [
  {
   "cell_type": "markdown",
   "metadata": {},
   "source": [
    "## A demo notebook for callback in XGBoost CV function"
   ]
  },
  {
   "cell_type": "code",
   "execution_count": 1,
   "metadata": {},
   "outputs": [],
   "source": [
    "import pandas as pd\n",
    "import numpy as np\n",
    "import xgboost as xgb\n",
    "#no need in train_test_split for CV\n",
    "#from sklearn.model_selection import train_test_split\n",
    "from matplotlib import pyplot as plt\n",
    "#reg expression to get individual scores from a string output\n",
    "import re"
   ]
  },
  {
   "cell_type": "markdown",
   "metadata": {},
   "source": [
    "### Dataset, target, featureset and transforming to DMatrix"
   ]
  },
  {
   "cell_type": "code",
   "execution_count": 2,
   "metadata": {},
   "outputs": [],
   "source": [
    "dataset = pd.read_csv('dwelling_basedata.csv', error_bad_lines=False, index_col=False)"
   ]
  },
  {
   "cell_type": "code",
   "execution_count": 3,
   "metadata": {},
   "outputs": [],
   "source": [
    "target='hasclaim_water'\n",
    "featureset=['yearbuilt', 'cova_deductible', 'sqft','water_risk_3_blk']"
   ]
  },
  {
   "cell_type": "markdown",
   "metadata": {},
   "source": [
    "No need to split into train/test(valid) sets or folds"
   ]
  },
  {
   "cell_type": "code",
   "execution_count": 4,
   "metadata": {},
   "outputs": [],
   "source": [
    "X = dataset[featureset]\n",
    "y = dataset[target]\n",
    "d_train = xgb.DMatrix(X, y)"
   ]
  },
  {
   "cell_type": "markdown",
   "metadata": {},
   "source": [
    "### XGBoost parameters\n",
    "The dataset is highly imbalanced. Usually a custom gini evaluation function is used in insurance datasets but fo simplicity I use a standard AUC function."
   ]
  },
  {
   "cell_type": "code",
   "execution_count": 5,
   "metadata": {},
   "outputs": [],
   "source": [
    "#parameters\n",
    "params={'objective': 'binary:logistic',\n",
    " 'eval_metric': 'auc',\n",
    " 'booster': 'gbtree',\n",
    " 'seed': 42,\n",
    " 'colsample_bylevel': 0.6,\n",
    " 'colsample_bytree': 0.8,\n",
    " 'scale_pos_weight': 0.3,\n",
    " 'eta': 0.018,       \n",
    " 'subsample': 0.6,\n",
    " }\n",
    "nfold = 10\n",
    "num_boost_round = 5000\n",
    "early_stopping_rounds = 100"
   ]
  },
  {
   "cell_type": "markdown",
   "metadata": {},
   "source": [
    "### Callback function"
   ]
  },
  {
   "cell_type": "code",
   "execution_count": 6,
   "metadata": {},
   "outputs": [],
   "source": [
    "def cv_misc_callback(oof_train_scores:list, oof_valid_scores:list, best_models:list,  maximize=True):\n",
    "    \"\"\"\n",
    "    It's called inside XGB CV to catch individual folds scores and models\n",
    "    \"\"\"    \n",
    "    state = {}\n",
    "    def init(env):\n",
    "        if maximize:\n",
    "            state['best_score'] = -np.inf\n",
    "        else:\n",
    "            state['best_score'] = np.inf \n",
    "#--------------------------------------------------------------------------------            \n",
    "    def callback(env):\n",
    "        #init env if empty\n",
    "        if not state:\n",
    "            init(env)\n",
    "        best_score = state['best_score']\n",
    "        score = env.evaluation_result_list[-1][1]\n",
    "        #extract best model if a current score is better then previous\n",
    "        if (maximize and score > best_score) or (not maximize and score < best_score):\n",
    "            for i, cvpack in enumerate(env.cvfolds): \n",
    "                best_models[i]=cvpack.bst\n",
    "            state['best_score'] = score    \n",
    "        #all iterations individual folds scores\n",
    "        folds_train_scores = []\n",
    "        folds_valid_scores = []\n",
    "        for i, cvpack in enumerate(env.cvfolds):            \n",
    "            scores = cvpack.eval(iteration=0,feval=None)\n",
    "            #print(scores)\n",
    "            scores_l = re.split(': |\\t',scores)\n",
    "            train_score=scores_l[1].rpartition(':')[2]\n",
    "            valid_score=scores_l[2].rpartition(':')[2]\n",
    "            folds_train_scores.append(train_score)\n",
    "            folds_valid_scores.append(valid_score)\n",
    "        oof_train_scores.append(folds_train_scores)\n",
    "        oof_valid_scores.append(folds_valid_scores)\n",
    "#--------------------------------------------------------------------------------        \n",
    "    callback.before_iteration = False\n",
    "    return callback"
   ]
  },
  {
   "cell_type": "markdown",
   "metadata": {},
   "source": [
    "### CV with callback functions"
   ]
  },
  {
   "cell_type": "code",
   "execution_count": 7,
   "metadata": {},
   "outputs": [
    {
     "name": "stdout",
     "output_type": "stream",
     "text": [
      "[0]\ttrain-auc:0.50000+0.00000\ttest-auc:0.50000+0.00000\n",
      "[10]\ttrain-auc:0.50000+0.00000\ttest-auc:0.50000+0.00000\n",
      "[20]\ttrain-auc:0.50000+0.00000\ttest-auc:0.50000+0.00000\n",
      "[30]\ttrain-auc:0.50000+0.00000\ttest-auc:0.50000+0.00000\n",
      "[40]\ttrain-auc:0.50000+0.00000\ttest-auc:0.50000+0.00000\n",
      "[50]\ttrain-auc:0.50000+0.00000\ttest-auc:0.50000+0.00000\n",
      "[60]\ttrain-auc:0.50000+0.00000\ttest-auc:0.50000+0.00000\n",
      "[70]\ttrain-auc:0.50000+0.00000\ttest-auc:0.50000+0.00000\n",
      "[80]\ttrain-auc:0.50000+0.00000\ttest-auc:0.50000+0.00000\n",
      "[90]\ttrain-auc:0.50000+0.00000\ttest-auc:0.50000+0.00000\n",
      "[100]\ttrain-auc:0.53375+0.04134\ttest-auc:0.52980+0.03690\n",
      "[110]\ttrain-auc:0.61510+0.01833\ttest-auc:0.60849+0.01420\n",
      "[120]\ttrain-auc:0.62726+0.00981\ttest-auc:0.62485+0.02029\n",
      "[130]\ttrain-auc:0.63985+0.00343\ttest-auc:0.63530+0.01468\n",
      "[140]\ttrain-auc:0.64470+0.00567\ttest-auc:0.63992+0.01414\n",
      "[150]\ttrain-auc:0.64840+0.00680\ttest-auc:0.64468+0.01777\n",
      "[160]\ttrain-auc:0.65576+0.00398\ttest-auc:0.65168+0.01855\n",
      "[170]\ttrain-auc:0.65938+0.00380\ttest-auc:0.65500+0.01849\n",
      "[180]\ttrain-auc:0.66273+0.00451\ttest-auc:0.65678+0.01677\n",
      "[190]\ttrain-auc:0.66491+0.00353\ttest-auc:0.65896+0.01688\n",
      "[200]\ttrain-auc:0.66750+0.00301\ttest-auc:0.66156+0.01645\n",
      "[210]\ttrain-auc:0.67058+0.00274\ttest-auc:0.66342+0.01689\n",
      "[220]\ttrain-auc:0.67250+0.00272\ttest-auc:0.66504+0.01684\n",
      "[230]\ttrain-auc:0.67510+0.00312\ttest-auc:0.66615+0.01580\n",
      "[240]\ttrain-auc:0.67806+0.00262\ttest-auc:0.66831+0.01643\n",
      "[250]\ttrain-auc:0.68106+0.00282\ttest-auc:0.66994+0.01593\n",
      "[260]\ttrain-auc:0.68372+0.00291\ttest-auc:0.67219+0.01577\n",
      "[270]\ttrain-auc:0.68535+0.00196\ttest-auc:0.67278+0.01616\n",
      "[280]\ttrain-auc:0.68742+0.00229\ttest-auc:0.67372+0.01641\n",
      "[290]\ttrain-auc:0.68942+0.00247\ttest-auc:0.67426+0.01657\n",
      "[300]\ttrain-auc:0.69166+0.00239\ttest-auc:0.67554+0.01628\n",
      "[310]\ttrain-auc:0.69377+0.00227\ttest-auc:0.67687+0.01618\n",
      "[320]\ttrain-auc:0.69589+0.00210\ttest-auc:0.67763+0.01608\n",
      "[330]\ttrain-auc:0.69723+0.00216\ttest-auc:0.67789+0.01590\n",
      "[340]\ttrain-auc:0.69877+0.00205\ttest-auc:0.67886+0.01566\n",
      "[350]\ttrain-auc:0.70067+0.00169\ttest-auc:0.67988+0.01607\n",
      "[360]\ttrain-auc:0.70200+0.00177\ttest-auc:0.68063+0.01581\n",
      "[370]\ttrain-auc:0.70364+0.00178\ttest-auc:0.68167+0.01579\n",
      "[380]\ttrain-auc:0.70484+0.00184\ttest-auc:0.68233+0.01576\n",
      "[390]\ttrain-auc:0.70626+0.00178\ttest-auc:0.68305+0.01573\n",
      "[400]\ttrain-auc:0.70751+0.00166\ttest-auc:0.68352+0.01588\n",
      "[410]\ttrain-auc:0.70869+0.00163\ttest-auc:0.68383+0.01564\n",
      "[420]\ttrain-auc:0.70973+0.00149\ttest-auc:0.68422+0.01567\n",
      "[430]\ttrain-auc:0.71093+0.00150\ttest-auc:0.68461+0.01576\n",
      "[440]\ttrain-auc:0.71191+0.00167\ttest-auc:0.68491+0.01576\n",
      "[450]\ttrain-auc:0.71300+0.00163\ttest-auc:0.68534+0.01571\n",
      "[460]\ttrain-auc:0.71409+0.00182\ttest-auc:0.68577+0.01563\n",
      "[470]\ttrain-auc:0.71504+0.00170\ttest-auc:0.68619+0.01567\n",
      "[480]\ttrain-auc:0.71598+0.00166\ttest-auc:0.68628+0.01571\n",
      "[490]\ttrain-auc:0.71674+0.00159\ttest-auc:0.68647+0.01563\n",
      "[500]\ttrain-auc:0.71765+0.00165\ttest-auc:0.68655+0.01551\n",
      "[510]\ttrain-auc:0.71840+0.00159\ttest-auc:0.68675+0.01551\n",
      "[520]\ttrain-auc:0.71915+0.00154\ttest-auc:0.68680+0.01540\n",
      "[530]\ttrain-auc:0.71987+0.00143\ttest-auc:0.68694+0.01540\n",
      "[540]\ttrain-auc:0.72054+0.00133\ttest-auc:0.68708+0.01534\n",
      "[550]\ttrain-auc:0.72129+0.00136\ttest-auc:0.68724+0.01534\n",
      "[560]\ttrain-auc:0.72203+0.00140\ttest-auc:0.68721+0.01535\n",
      "[570]\ttrain-auc:0.72277+0.00144\ttest-auc:0.68737+0.01535\n",
      "[580]\ttrain-auc:0.72343+0.00145\ttest-auc:0.68744+0.01532\n",
      "[590]\ttrain-auc:0.72412+0.00149\ttest-auc:0.68738+0.01538\n",
      "[600]\ttrain-auc:0.72469+0.00151\ttest-auc:0.68752+0.01534\n",
      "[610]\ttrain-auc:0.72530+0.00149\ttest-auc:0.68748+0.01533\n",
      "[620]\ttrain-auc:0.72591+0.00149\ttest-auc:0.68753+0.01527\n",
      "[630]\ttrain-auc:0.72644+0.00150\ttest-auc:0.68763+0.01529\n",
      "[640]\ttrain-auc:0.72704+0.00149\ttest-auc:0.68768+0.01529\n",
      "[650]\ttrain-auc:0.72757+0.00148\ttest-auc:0.68776+0.01522\n",
      "[660]\ttrain-auc:0.72809+0.00157\ttest-auc:0.68774+0.01521\n",
      "[670]\ttrain-auc:0.72862+0.00158\ttest-auc:0.68776+0.01517\n",
      "[680]\ttrain-auc:0.72917+0.00164\ttest-auc:0.68776+0.01515\n",
      "[690]\ttrain-auc:0.72989+0.00158\ttest-auc:0.68781+0.01518\n",
      "[700]\ttrain-auc:0.73049+0.00150\ttest-auc:0.68774+0.01520\n",
      "[710]\ttrain-auc:0.73104+0.00145\ttest-auc:0.68776+0.01520\n",
      "[720]\ttrain-auc:0.73165+0.00139\ttest-auc:0.68776+0.01530\n",
      "[730]\ttrain-auc:0.73226+0.00138\ttest-auc:0.68776+0.01523\n",
      "[740]\ttrain-auc:0.73283+0.00140\ttest-auc:0.68762+0.01517\n",
      "[750]\ttrain-auc:0.73344+0.00132\ttest-auc:0.68763+0.01524\n",
      "[760]\ttrain-auc:0.73400+0.00130\ttest-auc:0.68754+0.01519\n",
      "[770]\ttrain-auc:0.73462+0.00133\ttest-auc:0.68760+0.01510\n",
      "[780]\ttrain-auc:0.73520+0.00131\ttest-auc:0.68762+0.01522\n",
      "[790]\ttrain-auc:0.73584+0.00133\ttest-auc:0.68755+0.01530\n"
     ]
    }
   ],
   "source": [
    "#OUT parameters from custom callback function: \n",
    "#train and valid scores from all folds\n",
    "oof_train_scores = []\n",
    "oof_valid_scores = []\n",
    "#Best Model\n",
    "best_models=[None]*nfold\n",
    "    \n",
    "cv_results=xgb.cv(params, \n",
    "                  d_train, \n",
    "                  num_boost_round=num_boost_round,\n",
    "                  nfold=nfold, \n",
    "                  stratified=True, \n",
    "                  shuffle=True,\n",
    "                  early_stopping_rounds=early_stopping_rounds, \n",
    "                  seed=42,\n",
    "                   callbacks=[cv_misc_callback(oof_train_scores, oof_valid_scores,best_models,True), xgb.callback.print_evaluation(period=10)] \n",
    "                     )"
   ]
  },
  {
   "cell_type": "markdown",
   "metadata": {},
   "source": [
    "### CV Result"
   ]
  },
  {
   "cell_type": "code",
   "execution_count": 8,
   "metadata": {},
   "outputs": [
    {
     "data": {
      "text/html": [
       "<div>\n",
       "<style scoped>\n",
       "    .dataframe tbody tr th:only-of-type {\n",
       "        vertical-align: middle;\n",
       "    }\n",
       "\n",
       "    .dataframe tbody tr th {\n",
       "        vertical-align: top;\n",
       "    }\n",
       "\n",
       "    .dataframe thead th {\n",
       "        text-align: right;\n",
       "    }\n",
       "</style>\n",
       "<table border=\"1\" class=\"dataframe\">\n",
       "  <thead>\n",
       "    <tr style=\"text-align: right;\">\n",
       "      <th></th>\n",
       "      <th>train-auc-mean</th>\n",
       "      <th>train-auc-std</th>\n",
       "      <th>test-auc-mean</th>\n",
       "      <th>test-auc-std</th>\n",
       "    </tr>\n",
       "  </thead>\n",
       "  <tbody>\n",
       "    <tr>\n",
       "      <th>691</th>\n",
       "      <td>0.729942</td>\n",
       "      <td>0.001573</td>\n",
       "      <td>0.687806</td>\n",
       "      <td>0.015197</td>\n",
       "    </tr>\n",
       "    <tr>\n",
       "      <th>692</th>\n",
       "      <td>0.729998</td>\n",
       "      <td>0.001572</td>\n",
       "      <td>0.687810</td>\n",
       "      <td>0.015194</td>\n",
       "    </tr>\n",
       "    <tr>\n",
       "      <th>693</th>\n",
       "      <td>0.730056</td>\n",
       "      <td>0.001574</td>\n",
       "      <td>0.687823</td>\n",
       "      <td>0.015194</td>\n",
       "    </tr>\n",
       "    <tr>\n",
       "      <th>694</th>\n",
       "      <td>0.730084</td>\n",
       "      <td>0.001564</td>\n",
       "      <td>0.687826</td>\n",
       "      <td>0.015202</td>\n",
       "    </tr>\n",
       "    <tr>\n",
       "      <th>695</th>\n",
       "      <td>0.730137</td>\n",
       "      <td>0.001560</td>\n",
       "      <td>0.687837</td>\n",
       "      <td>0.015183</td>\n",
       "    </tr>\n",
       "  </tbody>\n",
       "</table>\n",
       "</div>"
      ],
      "text/plain": [
       "     train-auc-mean  train-auc-std  test-auc-mean  test-auc-std\n",
       "691        0.729942       0.001573       0.687806      0.015197\n",
       "692        0.729998       0.001572       0.687810      0.015194\n",
       "693        0.730056       0.001574       0.687823      0.015194\n",
       "694        0.730084       0.001564       0.687826      0.015202\n",
       "695        0.730137       0.001560       0.687837      0.015183"
      ]
     },
     "execution_count": 8,
     "metadata": {},
     "output_type": "execute_result"
    }
   ],
   "source": [
    "cv_results.tail()"
   ]
  },
  {
   "cell_type": "markdown",
   "metadata": {},
   "source": [
    "### Custom CV Result from a callback function with individual folds metrics\n",
    "Let's convert lists to pandas dataframe and calculate STD and SEM"
   ]
  },
  {
   "cell_type": "code",
   "execution_count": 9,
   "metadata": {},
   "outputs": [],
   "source": [
    "#scores to dataframe\n",
    "df_oof_train_scores = pd.DataFrame.from_records(oof_train_scores).apply(pd.to_numeric)\n",
    "df_oof_valid_scores = pd.DataFrame.from_records(oof_valid_scores).apply(pd.to_numeric)"
   ]
  },
  {
   "cell_type": "code",
   "execution_count": 10,
   "metadata": {},
   "outputs": [],
   "source": [
    "#only folds scores columns names\n",
    "columns = df_oof_train_scores.columns.tolist()"
   ]
  },
  {
   "cell_type": "code",
   "execution_count": 11,
   "metadata": {},
   "outputs": [],
   "source": [
    "#mean and std, sem \n",
    "df_oof_train_scores['std'] = df_oof_train_scores[columns].std(axis=1)\n",
    "df_oof_valid_scores['std'] = df_oof_valid_scores[columns].std(axis=1)\n",
    "df_oof_train_scores['sem'] = df_oof_train_scores[columns].sem(axis=1)\n",
    "df_oof_valid_scores['sem'] = df_oof_valid_scores[columns].sem(axis=1)    \n",
    "df_oof_train_scores['mean'] = df_oof_train_scores[columns].mean(axis=1)\n",
    "df_oof_valid_scores['mean'] = df_oof_valid_scores[columns].mean(axis=1)"
   ]
  },
  {
   "cell_type": "code",
   "execution_count": 12,
   "metadata": {},
   "outputs": [
    {
     "data": {
      "text/html": [
       "<div>\n",
       "<style scoped>\n",
       "    .dataframe tbody tr th:only-of-type {\n",
       "        vertical-align: middle;\n",
       "    }\n",
       "\n",
       "    .dataframe tbody tr th {\n",
       "        vertical-align: top;\n",
       "    }\n",
       "\n",
       "    .dataframe thead th {\n",
       "        text-align: right;\n",
       "    }\n",
       "</style>\n",
       "<table border=\"1\" class=\"dataframe\">\n",
       "  <thead>\n",
       "    <tr style=\"text-align: right;\">\n",
       "      <th></th>\n",
       "      <th>0</th>\n",
       "      <th>1</th>\n",
       "      <th>2</th>\n",
       "      <th>3</th>\n",
       "      <th>4</th>\n",
       "      <th>5</th>\n",
       "      <th>6</th>\n",
       "      <th>7</th>\n",
       "      <th>8</th>\n",
       "      <th>9</th>\n",
       "      <th>std</th>\n",
       "      <th>sem</th>\n",
       "      <th>mean</th>\n",
       "    </tr>\n",
       "  </thead>\n",
       "  <tbody>\n",
       "    <tr>\n",
       "      <th>791</th>\n",
       "      <td>0.735064</td>\n",
       "      <td>0.735104</td>\n",
       "      <td>0.736658</td>\n",
       "      <td>0.735220</td>\n",
       "      <td>0.734851</td>\n",
       "      <td>0.734872</td>\n",
       "      <td>0.739483</td>\n",
       "      <td>0.736426</td>\n",
       "      <td>0.735215</td>\n",
       "      <td>0.735818</td>\n",
       "      <td>0.001418</td>\n",
       "      <td>0.000449</td>\n",
       "      <td>0.735871</td>\n",
       "    </tr>\n",
       "    <tr>\n",
       "      <th>792</th>\n",
       "      <td>0.735095</td>\n",
       "      <td>0.735177</td>\n",
       "      <td>0.736683</td>\n",
       "      <td>0.735259</td>\n",
       "      <td>0.734865</td>\n",
       "      <td>0.734899</td>\n",
       "      <td>0.739491</td>\n",
       "      <td>0.736517</td>\n",
       "      <td>0.735308</td>\n",
       "      <td>0.735933</td>\n",
       "      <td>0.001410</td>\n",
       "      <td>0.000446</td>\n",
       "      <td>0.735923</td>\n",
       "    </tr>\n",
       "    <tr>\n",
       "      <th>793</th>\n",
       "      <td>0.735140</td>\n",
       "      <td>0.735224</td>\n",
       "      <td>0.736726</td>\n",
       "      <td>0.735302</td>\n",
       "      <td>0.734933</td>\n",
       "      <td>0.734914</td>\n",
       "      <td>0.739524</td>\n",
       "      <td>0.736520</td>\n",
       "      <td>0.735352</td>\n",
       "      <td>0.735974</td>\n",
       "      <td>0.001405</td>\n",
       "      <td>0.000444</td>\n",
       "      <td>0.735961</td>\n",
       "    </tr>\n",
       "    <tr>\n",
       "      <th>794</th>\n",
       "      <td>0.735178</td>\n",
       "      <td>0.735296</td>\n",
       "      <td>0.736740</td>\n",
       "      <td>0.735449</td>\n",
       "      <td>0.734973</td>\n",
       "      <td>0.734960</td>\n",
       "      <td>0.739541</td>\n",
       "      <td>0.736532</td>\n",
       "      <td>0.735376</td>\n",
       "      <td>0.736010</td>\n",
       "      <td>0.001389</td>\n",
       "      <td>0.000439</td>\n",
       "      <td>0.736006</td>\n",
       "    </tr>\n",
       "    <tr>\n",
       "      <th>795</th>\n",
       "      <td>0.735239</td>\n",
       "      <td>0.735383</td>\n",
       "      <td>0.736768</td>\n",
       "      <td>0.735530</td>\n",
       "      <td>0.734995</td>\n",
       "      <td>0.735020</td>\n",
       "      <td>0.739602</td>\n",
       "      <td>0.736540</td>\n",
       "      <td>0.735416</td>\n",
       "      <td>0.736025</td>\n",
       "      <td>0.001387</td>\n",
       "      <td>0.000439</td>\n",
       "      <td>0.736052</td>\n",
       "    </tr>\n",
       "  </tbody>\n",
       "</table>\n",
       "</div>"
      ],
      "text/plain": [
       "            0         1         2         3         4         5         6  \\\n",
       "791  0.735064  0.735104  0.736658  0.735220  0.734851  0.734872  0.739483   \n",
       "792  0.735095  0.735177  0.736683  0.735259  0.734865  0.734899  0.739491   \n",
       "793  0.735140  0.735224  0.736726  0.735302  0.734933  0.734914  0.739524   \n",
       "794  0.735178  0.735296  0.736740  0.735449  0.734973  0.734960  0.739541   \n",
       "795  0.735239  0.735383  0.736768  0.735530  0.734995  0.735020  0.739602   \n",
       "\n",
       "            7         8         9       std       sem      mean  \n",
       "791  0.736426  0.735215  0.735818  0.001418  0.000449  0.735871  \n",
       "792  0.736517  0.735308  0.735933  0.001410  0.000446  0.735923  \n",
       "793  0.736520  0.735352  0.735974  0.001405  0.000444  0.735961  \n",
       "794  0.736532  0.735376  0.736010  0.001389  0.000439  0.736006  \n",
       "795  0.736540  0.735416  0.736025  0.001387  0.000439  0.736052  "
      ]
     },
     "execution_count": 12,
     "metadata": {},
     "output_type": "execute_result"
    }
   ],
   "source": [
    "df_oof_train_scores.tail()"
   ]
  },
  {
   "cell_type": "code",
   "execution_count": 13,
   "metadata": {},
   "outputs": [
    {
     "data": {
      "text/html": [
       "<div>\n",
       "<style scoped>\n",
       "    .dataframe tbody tr th:only-of-type {\n",
       "        vertical-align: middle;\n",
       "    }\n",
       "\n",
       "    .dataframe tbody tr th {\n",
       "        vertical-align: top;\n",
       "    }\n",
       "\n",
       "    .dataframe thead th {\n",
       "        text-align: right;\n",
       "    }\n",
       "</style>\n",
       "<table border=\"1\" class=\"dataframe\">\n",
       "  <thead>\n",
       "    <tr style=\"text-align: right;\">\n",
       "      <th></th>\n",
       "      <th>0</th>\n",
       "      <th>1</th>\n",
       "      <th>2</th>\n",
       "      <th>3</th>\n",
       "      <th>4</th>\n",
       "      <th>5</th>\n",
       "      <th>6</th>\n",
       "      <th>7</th>\n",
       "      <th>8</th>\n",
       "      <th>9</th>\n",
       "      <th>std</th>\n",
       "      <th>sem</th>\n",
       "      <th>mean</th>\n",
       "    </tr>\n",
       "  </thead>\n",
       "  <tbody>\n",
       "    <tr>\n",
       "      <th>791</th>\n",
       "      <td>0.705811</td>\n",
       "      <td>0.693888</td>\n",
       "      <td>0.674917</td>\n",
       "      <td>0.679050</td>\n",
       "      <td>0.714809</td>\n",
       "      <td>0.694630</td>\n",
       "      <td>0.657618</td>\n",
       "      <td>0.688595</td>\n",
       "      <td>0.683779</td>\n",
       "      <td>0.682329</td>\n",
       "      <td>0.016115</td>\n",
       "      <td>0.005096</td>\n",
       "      <td>0.687543</td>\n",
       "    </tr>\n",
       "    <tr>\n",
       "      <th>792</th>\n",
       "      <td>0.705817</td>\n",
       "      <td>0.693903</td>\n",
       "      <td>0.674868</td>\n",
       "      <td>0.679003</td>\n",
       "      <td>0.714863</td>\n",
       "      <td>0.694604</td>\n",
       "      <td>0.657607</td>\n",
       "      <td>0.688551</td>\n",
       "      <td>0.683657</td>\n",
       "      <td>0.682485</td>\n",
       "      <td>0.016132</td>\n",
       "      <td>0.005101</td>\n",
       "      <td>0.687536</td>\n",
       "    </tr>\n",
       "    <tr>\n",
       "      <th>793</th>\n",
       "      <td>0.705779</td>\n",
       "      <td>0.693944</td>\n",
       "      <td>0.674881</td>\n",
       "      <td>0.678924</td>\n",
       "      <td>0.714802</td>\n",
       "      <td>0.694577</td>\n",
       "      <td>0.657672</td>\n",
       "      <td>0.688561</td>\n",
       "      <td>0.683647</td>\n",
       "      <td>0.682396</td>\n",
       "      <td>0.016110</td>\n",
       "      <td>0.005094</td>\n",
       "      <td>0.687518</td>\n",
       "    </tr>\n",
       "    <tr>\n",
       "      <th>794</th>\n",
       "      <td>0.705714</td>\n",
       "      <td>0.693914</td>\n",
       "      <td>0.674875</td>\n",
       "      <td>0.678910</td>\n",
       "      <td>0.714855</td>\n",
       "      <td>0.694593</td>\n",
       "      <td>0.657623</td>\n",
       "      <td>0.688544</td>\n",
       "      <td>0.683658</td>\n",
       "      <td>0.682407</td>\n",
       "      <td>0.016121</td>\n",
       "      <td>0.005098</td>\n",
       "      <td>0.687509</td>\n",
       "    </tr>\n",
       "    <tr>\n",
       "      <th>795</th>\n",
       "      <td>0.705704</td>\n",
       "      <td>0.693926</td>\n",
       "      <td>0.674860</td>\n",
       "      <td>0.678882</td>\n",
       "      <td>0.714846</td>\n",
       "      <td>0.694548</td>\n",
       "      <td>0.657598</td>\n",
       "      <td>0.688539</td>\n",
       "      <td>0.683622</td>\n",
       "      <td>0.682378</td>\n",
       "      <td>0.016127</td>\n",
       "      <td>0.005100</td>\n",
       "      <td>0.687490</td>\n",
       "    </tr>\n",
       "  </tbody>\n",
       "</table>\n",
       "</div>"
      ],
      "text/plain": [
       "            0         1         2         3         4         5         6  \\\n",
       "791  0.705811  0.693888  0.674917  0.679050  0.714809  0.694630  0.657618   \n",
       "792  0.705817  0.693903  0.674868  0.679003  0.714863  0.694604  0.657607   \n",
       "793  0.705779  0.693944  0.674881  0.678924  0.714802  0.694577  0.657672   \n",
       "794  0.705714  0.693914  0.674875  0.678910  0.714855  0.694593  0.657623   \n",
       "795  0.705704  0.693926  0.674860  0.678882  0.714846  0.694548  0.657598   \n",
       "\n",
       "            7         8         9       std       sem      mean  \n",
       "791  0.688595  0.683779  0.682329  0.016115  0.005096  0.687543  \n",
       "792  0.688551  0.683657  0.682485  0.016132  0.005101  0.687536  \n",
       "793  0.688561  0.683647  0.682396  0.016110  0.005094  0.687518  \n",
       "794  0.688544  0.683658  0.682407  0.016121  0.005098  0.687509  \n",
       "795  0.688539  0.683622  0.682378  0.016127  0.005100  0.687490  "
      ]
     },
     "execution_count": 13,
     "metadata": {},
     "output_type": "execute_result"
    }
   ],
   "source": [
    "df_oof_valid_scores.tail()"
   ]
  },
  {
   "cell_type": "markdown",
   "metadata": {},
   "source": [
    "There are 100 (early_stopping_rounds) more results in the custom result then in in the standard output (cv_results)"
   ]
  },
  {
   "cell_type": "code",
   "execution_count": 14,
   "metadata": {},
   "outputs": [
    {
     "data": {
      "text/html": [
       "<div>\n",
       "<style scoped>\n",
       "    .dataframe tbody tr th:only-of-type {\n",
       "        vertical-align: middle;\n",
       "    }\n",
       "\n",
       "    .dataframe tbody tr th {\n",
       "        vertical-align: top;\n",
       "    }\n",
       "\n",
       "    .dataframe thead th {\n",
       "        text-align: right;\n",
       "    }\n",
       "</style>\n",
       "<table border=\"1\" class=\"dataframe\">\n",
       "  <thead>\n",
       "    <tr style=\"text-align: right;\">\n",
       "      <th></th>\n",
       "      <th>train-auc-mean</th>\n",
       "      <th>train-auc-sem</th>\n",
       "      <th>train-auc-std</th>\n",
       "      <th>valid-auc-mean</th>\n",
       "      <th>valid-auc-sem</th>\n",
       "      <th>valid-auc-std</th>\n",
       "    </tr>\n",
       "  </thead>\n",
       "  <tbody>\n",
       "    <tr>\n",
       "      <th>791</th>\n",
       "      <td>0.735871</td>\n",
       "      <td>0.000449</td>\n",
       "      <td>0.001418</td>\n",
       "      <td>0.687543</td>\n",
       "      <td>0.005096</td>\n",
       "      <td>0.016115</td>\n",
       "    </tr>\n",
       "    <tr>\n",
       "      <th>792</th>\n",
       "      <td>0.735923</td>\n",
       "      <td>0.000446</td>\n",
       "      <td>0.001410</td>\n",
       "      <td>0.687536</td>\n",
       "      <td>0.005101</td>\n",
       "      <td>0.016132</td>\n",
       "    </tr>\n",
       "    <tr>\n",
       "      <th>793</th>\n",
       "      <td>0.735961</td>\n",
       "      <td>0.000444</td>\n",
       "      <td>0.001405</td>\n",
       "      <td>0.687518</td>\n",
       "      <td>0.005094</td>\n",
       "      <td>0.016110</td>\n",
       "    </tr>\n",
       "    <tr>\n",
       "      <th>794</th>\n",
       "      <td>0.736006</td>\n",
       "      <td>0.000439</td>\n",
       "      <td>0.001389</td>\n",
       "      <td>0.687509</td>\n",
       "      <td>0.005098</td>\n",
       "      <td>0.016121</td>\n",
       "    </tr>\n",
       "    <tr>\n",
       "      <th>795</th>\n",
       "      <td>0.736052</td>\n",
       "      <td>0.000439</td>\n",
       "      <td>0.001387</td>\n",
       "      <td>0.687490</td>\n",
       "      <td>0.005100</td>\n",
       "      <td>0.016127</td>\n",
       "    </tr>\n",
       "  </tbody>\n",
       "</table>\n",
       "</div>"
      ],
      "text/plain": [
       "     train-auc-mean  train-auc-sem  train-auc-std  valid-auc-mean  \\\n",
       "791        0.735871       0.000449       0.001418        0.687543   \n",
       "792        0.735923       0.000446       0.001410        0.687536   \n",
       "793        0.735961       0.000444       0.001405        0.687518   \n",
       "794        0.736006       0.000439       0.001389        0.687509   \n",
       "795        0.736052       0.000439       0.001387        0.687490   \n",
       "\n",
       "     valid-auc-sem  valid-auc-std  \n",
       "791       0.005096       0.016115  \n",
       "792       0.005101       0.016132  \n",
       "793       0.005094       0.016110  \n",
       "794       0.005098       0.016121  \n",
       "795       0.005100       0.016127  "
      ]
     },
     "execution_count": 14,
     "metadata": {},
     "output_type": "execute_result"
    }
   ],
   "source": [
    "data=pd.concat([df_oof_train_scores[['mean','sem','std']],df_oof_valid_scores[['mean','sem','std']]],axis=1)\n",
    "data.columns=['train-auc-mean','train-auc-sem','train-auc-std','valid-auc-mean','valid-auc-sem','valid-auc-std']\n",
    "data.tail()"
   ]
  },
  {
   "cell_type": "markdown",
   "metadata": {},
   "source": [
    "Let's select the best score from our custom results"
   ]
  },
  {
   "cell_type": "code",
   "execution_count": 15,
   "metadata": {},
   "outputs": [
    {
     "data": {
      "text/html": [
       "<div>\n",
       "<style scoped>\n",
       "    .dataframe tbody tr th:only-of-type {\n",
       "        vertical-align: middle;\n",
       "    }\n",
       "\n",
       "    .dataframe tbody tr th {\n",
       "        vertical-align: top;\n",
       "    }\n",
       "\n",
       "    .dataframe thead th {\n",
       "        text-align: right;\n",
       "    }\n",
       "</style>\n",
       "<table border=\"1\" class=\"dataframe\">\n",
       "  <thead>\n",
       "    <tr style=\"text-align: right;\">\n",
       "      <th></th>\n",
       "      <th>train-auc-mean</th>\n",
       "      <th>train-auc-sem</th>\n",
       "      <th>train-auc-std</th>\n",
       "      <th>valid-auc-mean</th>\n",
       "      <th>valid-auc-sem</th>\n",
       "      <th>valid-auc-std</th>\n",
       "    </tr>\n",
       "  </thead>\n",
       "  <tbody>\n",
       "    <tr>\n",
       "      <th>695</th>\n",
       "      <td>0.730137</td>\n",
       "      <td>0.00052</td>\n",
       "      <td>0.001645</td>\n",
       "      <td>0.687837</td>\n",
       "      <td>0.005061</td>\n",
       "      <td>0.016004</td>\n",
       "    </tr>\n",
       "  </tbody>\n",
       "</table>\n",
       "</div>"
      ],
      "text/plain": [
       "     train-auc-mean  train-auc-sem  train-auc-std  valid-auc-mean  \\\n",
       "695        0.730137        0.00052       0.001645        0.687837   \n",
       "\n",
       "     valid-auc-sem  valid-auc-std  \n",
       "695       0.005061       0.016004  "
      ]
     },
     "execution_count": 15,
     "metadata": {},
     "output_type": "execute_result"
    }
   ],
   "source": [
    "#max or mean depending on the score\n",
    "BestTestScore=data['valid-auc-mean'].max()\n",
    "#even if there are more then 1 rows with the same max valid-auc-mean use only first: head(1)\n",
    "BestModelResult=data[data['valid-auc-mean']==BestTestScore].head(1).copy()\n",
    "BestModelResult"
   ]
  },
  {
   "cell_type": "markdown",
   "metadata": {},
   "source": [
    "Now compare means and std between standard output (the last row) and BestModelResult extracted from custom results: train and valid means are the same, best iteration is the same, but std are different!"
   ]
  },
  {
   "cell_type": "markdown",
   "metadata": {},
   "source": [
    "### Visualization of the custom output"
   ]
  },
  {
   "cell_type": "code",
   "execution_count": 16,
   "metadata": {},
   "outputs": [
    {
     "data": {
      "text/plain": [
       "<matplotlib.collections.PolyCollection at 0x7f847f4773a0>"
      ]
     },
     "execution_count": 16,
     "metadata": {},
     "output_type": "execute_result"
    },
    {
     "data": {
      "image/png": "[encoded data removed]",
      "text/plain": [
       "<Figure size 432x288 with 1 Axes>"
      ]
     },
     "metadata": {
      "needs_background": "light"
     },
     "output_type": "display_data"
    }
   ],
   "source": [
    "ax=data[['train-auc-mean','valid-auc-mean']].plot(title='Training and validation errors')\n",
    "ax.fill_between(data.index.values, (data['train-auc-mean'].values-data['train-auc-sem'].values), (data['train-auc-mean'].values + data['train-auc-sem'].values), color='b', alpha=.1)\n",
    "ax.fill_between(data.index.values, (data['valid-auc-mean'].values-data['valid-auc-sem'].values), (data['valid-auc-mean'].values + data['valid-auc-sem'].values), color='r', alpha=.1)"
   ]
  },
  {
   "cell_type": "markdown",
   "metadata": {},
   "source": [
    "Well, it looks like overfitting"
   ]
  },
  {
   "cell_type": "markdown",
   "metadata": {},
   "source": [
    "### Feature importance from CV best models"
   ]
  },
  {
   "cell_type": "code",
   "execution_count": 17,
   "metadata": {},
   "outputs": [],
   "source": [
    "#there are as many models as folds. I calculate feature importance for all of them and then mean, std and sem\n",
    "oof_fi_weight_best = {}\n",
    "oof_fi_gain_best = {}\n",
    "oof_fi_cover_best = {}\n",
    "for i in range(0,nfold):\n",
    "    oof_fi_weight_best[i]=best_models[i].get_score(importance_type='weight')\n",
    "    oof_fi_gain_best[i]= best_models[i].get_score(importance_type='gain')\n",
    "    oof_fi_cover_best[i]= best_models[i].get_score(importance_type='cover')\n",
    "    \n",
    "#converting to dataframe\n",
    "df_oof_fi_weight_best = pd.DataFrame(oof_fi_weight_best).apply(pd.to_numeric)\n",
    "df_oof_fi_gain_best = pd.DataFrame(oof_fi_gain_best).apply(pd.to_numeric)\n",
    "df_oof_fi_cover_best = pd.DataFrame(oof_fi_cover_best).apply(pd.to_numeric)\n",
    "    \n",
    "    \n",
    "#mean and std, sem \n",
    "df_oof_fi_weight_best['std'] = df_oof_fi_weight_best[columns].std(axis=1)\n",
    "df_oof_fi_gain_best['std'] = df_oof_fi_gain_best[columns].std(axis=1)\n",
    "df_oof_fi_cover_best['std'] = df_oof_fi_cover_best[columns].std(axis=1)\n",
    "    \n",
    "df_oof_fi_weight_best['sem'] = df_oof_fi_weight_best[columns].sem(axis=1)\n",
    "df_oof_fi_gain_best['sem'] = df_oof_fi_gain_best[columns].sem(axis=1)\n",
    "df_oof_fi_cover_best['sem'] = df_oof_fi_cover_best[columns].sem(axis=1)\n",
    "    \n",
    "df_oof_fi_weight_best['mean'] = df_oof_fi_weight_best[columns].mean(axis=1)\n",
    "df_oof_fi_gain_best['mean'] = df_oof_fi_gain_best[columns].mean(axis=1)\n",
    "df_oof_fi_cover_best['mean'] = df_oof_fi_cover_best[columns].mean(axis=1)\n",
    "    \n",
    "    \n",
    "#feature codes from index to column\n",
    "df_oof_fi_weight_best.reset_index(level=0, inplace=True)\n",
    "df_oof_fi_weight_best.columns=['feature'] + columns + ['std','sem','mean']\n",
    "df_oof_fi_gain_best.reset_index(level=0, inplace=True)\n",
    "df_oof_fi_gain_best.columns=['feature'] + columns + ['std','sem','mean']\n",
    "df_oof_fi_cover_best.reset_index(level=0, inplace=True)\n",
    "df_oof_fi_cover_best.columns=['feature'] + columns + ['std','sem','mean']"
   ]
  },
  {
   "cell_type": "code",
   "execution_count": 18,
   "metadata": {},
   "outputs": [],
   "source": [
    "df_oof_fi_weight_best.sort_values('mean',ascending=False,inplace=True)\n",
    "df_oof_fi_gain_best.sort_values('mean',ascending=False,inplace=True)\n",
    "df_oof_fi_cover_best.sort_values('mean',ascending=False,inplace=True)"
   ]
  },
  {
   "cell_type": "code",
   "execution_count": 19,
   "metadata": {},
   "outputs": [
    {
     "name": "stderr",
     "output_type": "stream",
     "text": [
      "<ipython-input-19-01f3680bc766>:7: UserWarning: FixedFormatter should only be used together with FixedLocator\n",
      "  ax.set_xticklabels(df_oof_fi_gain_best['feature'].values,rotation=90)\n",
      "<ipython-input-19-01f3680bc766>:12: UserWarning: FixedFormatter should only be used together with FixedLocator\n",
      "  ax.set_xticklabels(df_oof_fi_weight_best['feature'].values,rotation=90)\n",
      "<ipython-input-19-01f3680bc766>:18: UserWarning: FixedFormatter should only be used together with FixedLocator\n",
      "  ax.set_xticklabels(df_oof_fi_cover_best['feature'].values,rotation=90)\n"
     ]
    },
    {
     "data": {
      "text/plain": [
       "[Text(0, 0, 'cova_deductible'),\n",
       " Text(1, 0, 'yearbuilt'),\n",
       " Text(2, 0, 'water_risk_3_blk'),\n",
       " Text(3, 0, 'sqft')]"
      ]
     },
     "execution_count": 19,
     "metadata": {},
     "output_type": "execute_result"
    },
    {
     "data": {
      "image/png": "[encoded data removed]",
      "text/plain": [
       "<Figure size 1440x360 with 3 Axes>"
      ]
     },
     "metadata": {
      "needs_background": "light"
     },
     "output_type": "display_data"
    }
   ],
   "source": [
    "fig, axs = plt.subplots(nrows=1, ncols=3,figsize=(20,5)) \n",
    "\n",
    "                \n",
    "ax = axs[0]\n",
    "ax.errorbar(df_oof_fi_gain_best['feature'], df_oof_fi_gain_best['mean'], color = 'blue',  ecolor='lightgray', elinewidth=3, capsize=0,yerr=df_oof_fi_gain_best['sem'], fmt='o')\n",
    "ax.set_title('Gain')\n",
    "ax.set_xticklabels(df_oof_fi_gain_best['feature'].values,rotation=90)\n",
    "\n",
    "ax = axs[1]\n",
    "ax.errorbar(df_oof_fi_weight_best['feature'], df_oof_fi_weight_best['mean'], color = 'blue',  ecolor='lightgray', elinewidth=3, capsize=0,yerr=df_oof_fi_weight_best['sem'], fmt='o')\n",
    "ax.set_title('Weight')\n",
    "ax.set_xticklabels(df_oof_fi_weight_best['feature'].values,rotation=90)\n",
    "                         \n",
    "\n",
    "ax = axs[2]\n",
    "ax.errorbar(df_oof_fi_cover_best['feature'], df_oof_fi_cover_best['mean'], color = 'blue',  ecolor='lightgray', elinewidth=3, capsize=0,yerr=df_oof_fi_cover_best['sem'], fmt='o')\n",
    "ax.set_title('Cover')\n",
    "ax.set_xticklabels(df_oof_fi_cover_best['feature'].values,rotation=90)"
   ]
  }
 ],
 "metadata": {
  "kernelspec": {
   "display_name": "Python 3",
   "language": "python",
   "name": "python3"
  },
  "language_info": {
   "codemirror_mode": {
    "name": "ipython",
    "version": 3
   },
   "file_extension": ".py",
   "mimetype": "text/x-python",
   "name": "python",
   "nbconvert_exporter": "python",
   "pygments_lexer": "ipython3",
   "version": "3.8.5"
  }
 },
 "nbformat": 4,
 "nbformat_minor": 4
}
